{
 "cells": [
  {
   "cell_type": "code",
   "execution_count": null,
   "metadata": {},
   "outputs": [],
   "source": [
    "import tensorflow as tf\n",
    "from tensorflow.examples.tutorials.mnist import input_data\n",
    "import numpy as np\n",
    "\n",
    "mnist = input_data.read_data_sets(\"MNIST_data/\", one_hot=True) \n",
    "trX, trY, teX, teY = mnist.train.images, mnist.train.labels, mnist.test.images, mnist.test.labels\n",
    "\n",
    "num_epoch = 10\n",
    "mini_batch_size = 100\n",
    "learning_rate = 0.001\n",
    "\n",
    "graph = tf.Graph()\n",
    "with graph.as_default():\n",
    "    w = tf.Variable(tf.random_normal([___, ___]), dtype = tf.float32)\n",
    "    b = tf.Variable(tf.zeros([___]), dtype = tf.float32)\n",
    "    X = tf.placeholder(tf.float32, [None, ___])\n",
    "    Y = tf.placeholder(tf.float32, [None, ___])\n",
    "    def regression(_X, _w, _b):\n",
    "        o_l = ________________________\n",
    "        return o_l\n",
    "\n",
    "    output = regression(X, w, b)\n",
    "    loss = ________________________\n",
    "\n",
    "    train = tf.train.GradientDescentOptimizer(learning_rate).minimize(loss)\n",
    "    Y_hat = tf.argmax(output, 1)\n",
    "    correct_prediction = tf.equal(Y_hat, tf.argmax(Y, 1))\n",
    "    accuracy = tf.reduce_mean(tf.cast(correct_prediction, \"float\"))\n",
    "\n",
    "    with tf.Session() as sess:\n",
    "        sess.run(tf.global_variables_initializer())\n",
    "        for i in range(num_epoch):\n",
    "            num_batch = int(len(trX)/mini_batch_size)\n",
    "            rannum =  np.random.permutation(len(trX))\n",
    "            for ii in range(num_batch):\n",
    "                X_batch = trX[rannum[ii*mini_batch_size:(ii+1)*mini_batch_size],:]\n",
    "                Y_batch = trY[rannum[ii*mini_batch_size:(ii+1)*mini_batch_size],:]\n",
    "                sess.run(train, feed_dict={X:X_batch, Y:Y_batch})\n",
    "            tr_acc = accuracy.eval(feed_dict = {X:trX, Y:trY})\n",
    "            te_acc = accuracy.eval(feed_dict = {X:teX, Y:teY})\n",
    "            print('epoch =', i+1, '/ training acc =',tr_acc,'/ test acc =',te_acc)"
   ]
  }
 ],
 "metadata": {
  "kernelspec": {
   "display_name": "Python 3",
   "language": "python",
   "name": "python3"
  },
  "language_info": {
   "codemirror_mode": {
    "name": "ipython",
    "version": 3
   },
   "file_extension": ".py",
   "mimetype": "text/x-python",
   "name": "python",
   "nbconvert_exporter": "python",
   "pygments_lexer": "ipython3",
   "version": "3.6.5"
  }
 },
 "nbformat": 4,
 "nbformat_minor": 2
}
